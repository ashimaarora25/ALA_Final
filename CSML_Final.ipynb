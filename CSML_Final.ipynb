{
  "nbformat": 4,
  "nbformat_minor": 0,
  "metadata": {
    "colab": {
      "provenance": [],
      "mount_file_id": "1qo8C_7skQsU7eRkYwwyIm8TSwcnLHZR2",
      "authorship_tag": "ABX9TyPYedYkEpgEcolOWEs7Y2SH",
      "include_colab_link": true
    },
    "kernelspec": {
      "name": "python3",
      "display_name": "Python 3"
    },
    "language_info": {
      "name": "python"
    }
  },
  "cells": [
    {
      "cell_type": "markdown",
      "metadata": {
        "id": "view-in-github",
        "colab_type": "text"
      },
      "source": [
        "<a href=\"https://colab.research.google.com/github/ashimaarora25/ALA_Final/blob/main/CSML_Final.ipynb\" target=\"_parent\"><img src=\"https://colab.research.google.com/assets/colab-badge.svg\" alt=\"Open In Colab\"/></a>"
      ]
    },
    {
      "cell_type": "code",
      "execution_count": 1,
      "metadata": {
        "id": "dqE3EQuorIaU"
      },
      "outputs": [],
      "source": [
        "import pandas as pd\n",
        "import numpy as np\n",
        "import matplotlib.pyplot as plt\n",
        "import warnings\n",
        "warnings.filterwarnings(\"ignore\")\n",
        "%matplotlib inline"
      ]
    },
    {
      "cell_type": "code",
      "source": [
        "ps_df = pd.read_csv('/content/drive/MyDrive/hcps_puf_2022_formats.csv')\n",
        "ps_df.head(3)"
      ],
      "metadata": {
        "colab": {
          "base_uri": "https://localhost:8080/",
          "height": 146
        },
        "id": "eQaLRur2sUNt",
        "outputId": "671e04e5-10a7-4cfe-ec94-bcd0e9501bd4"
      },
      "execution_count": 186,
      "outputs": [
        {
          "output_type": "execute_result",
          "data": {
            "text/plain": [
              "       zrid INT1a MED1     MED2     MED5    ROU2a    ROU2c   ROU2c1   ROU2c2  \\\n",
              "0  1014017P   Yes  Yes       No       No  Missing  Missing  Missing  Missing   \n",
              "1  1014018P    No  Yes       No       No  Missing  Missing  Missing  Missing   \n",
              "2  1014026P   Yes   No  Missing  Missing  Missing  Missing  Missing  Missing   \n",
              "\n",
              "    ROU2c3  ... ED_IMP_FLAG CON9y    MEN2a    MEN2b    MEN2c    MEN5c  \\\n",
              "0  Missing  ...          No     1       No       No       No       No   \n",
              "1  Missing  ...          No    15       No       No       No       No   \n",
              "2  Missing  ...         Yes    10  Missing  Missing  Missing  Missing   \n",
              "\n",
              "     MEN5d  can3a_r  can4a_r  can5a_r  \n",
              "0       No      Yes      Yes       No  \n",
              "1       No      Yes      Yes      Yes  \n",
              "2  Missing  Missing  Missing  Missing  \n",
              "\n",
              "[3 rows x 465 columns]"
            ],
            "text/html": [
              "\n",
              "  <div id=\"df-1cc769e8-a925-45a8-b198-2e14071d4645\" class=\"colab-df-container\">\n",
              "    <div>\n",
              "<style scoped>\n",
              "    .dataframe tbody tr th:only-of-type {\n",
              "        vertical-align: middle;\n",
              "    }\n",
              "\n",
              "    .dataframe tbody tr th {\n",
              "        vertical-align: top;\n",
              "    }\n",
              "\n",
              "    .dataframe thead th {\n",
              "        text-align: right;\n",
              "    }\n",
              "</style>\n",
              "<table border=\"1\" class=\"dataframe\">\n",
              "  <thead>\n",
              "    <tr style=\"text-align: right;\">\n",
              "      <th></th>\n",
              "      <th>zrid</th>\n",
              "      <th>INT1a</th>\n",
              "      <th>MED1</th>\n",
              "      <th>MED2</th>\n",
              "      <th>MED5</th>\n",
              "      <th>ROU2a</th>\n",
              "      <th>ROU2c</th>\n",
              "      <th>ROU2c1</th>\n",
              "      <th>ROU2c2</th>\n",
              "      <th>ROU2c3</th>\n",
              "      <th>...</th>\n",
              "      <th>ED_IMP_FLAG</th>\n",
              "      <th>CON9y</th>\n",
              "      <th>MEN2a</th>\n",
              "      <th>MEN2b</th>\n",
              "      <th>MEN2c</th>\n",
              "      <th>MEN5c</th>\n",
              "      <th>MEN5d</th>\n",
              "      <th>can3a_r</th>\n",
              "      <th>can4a_r</th>\n",
              "      <th>can5a_r</th>\n",
              "    </tr>\n",
              "  </thead>\n",
              "  <tbody>\n",
              "    <tr>\n",
              "      <th>0</th>\n",
              "      <td>1014017P</td>\n",
              "      <td>Yes</td>\n",
              "      <td>Yes</td>\n",
              "      <td>No</td>\n",
              "      <td>No</td>\n",
              "      <td>Missing</td>\n",
              "      <td>Missing</td>\n",
              "      <td>Missing</td>\n",
              "      <td>Missing</td>\n",
              "      <td>Missing</td>\n",
              "      <td>...</td>\n",
              "      <td>No</td>\n",
              "      <td>1</td>\n",
              "      <td>No</td>\n",
              "      <td>No</td>\n",
              "      <td>No</td>\n",
              "      <td>No</td>\n",
              "      <td>No</td>\n",
              "      <td>Yes</td>\n",
              "      <td>Yes</td>\n",
              "      <td>No</td>\n",
              "    </tr>\n",
              "    <tr>\n",
              "      <th>1</th>\n",
              "      <td>1014018P</td>\n",
              "      <td>No</td>\n",
              "      <td>Yes</td>\n",
              "      <td>No</td>\n",
              "      <td>No</td>\n",
              "      <td>Missing</td>\n",
              "      <td>Missing</td>\n",
              "      <td>Missing</td>\n",
              "      <td>Missing</td>\n",
              "      <td>Missing</td>\n",
              "      <td>...</td>\n",
              "      <td>No</td>\n",
              "      <td>15</td>\n",
              "      <td>No</td>\n",
              "      <td>No</td>\n",
              "      <td>No</td>\n",
              "      <td>No</td>\n",
              "      <td>No</td>\n",
              "      <td>Yes</td>\n",
              "      <td>Yes</td>\n",
              "      <td>Yes</td>\n",
              "    </tr>\n",
              "    <tr>\n",
              "      <th>2</th>\n",
              "      <td>1014026P</td>\n",
              "      <td>Yes</td>\n",
              "      <td>No</td>\n",
              "      <td>Missing</td>\n",
              "      <td>Missing</td>\n",
              "      <td>Missing</td>\n",
              "      <td>Missing</td>\n",
              "      <td>Missing</td>\n",
              "      <td>Missing</td>\n",
              "      <td>Missing</td>\n",
              "      <td>...</td>\n",
              "      <td>Yes</td>\n",
              "      <td>10</td>\n",
              "      <td>Missing</td>\n",
              "      <td>Missing</td>\n",
              "      <td>Missing</td>\n",
              "      <td>Missing</td>\n",
              "      <td>Missing</td>\n",
              "      <td>Missing</td>\n",
              "      <td>Missing</td>\n",
              "      <td>Missing</td>\n",
              "    </tr>\n",
              "  </tbody>\n",
              "</table>\n",
              "<p>3 rows × 465 columns</p>\n",
              "</div>\n",
              "    <div class=\"colab-df-buttons\">\n",
              "\n",
              "  <div class=\"colab-df-container\">\n",
              "    <button class=\"colab-df-convert\" onclick=\"convertToInteractive('df-1cc769e8-a925-45a8-b198-2e14071d4645')\"\n",
              "            title=\"Convert this dataframe to an interactive table.\"\n",
              "            style=\"display:none;\">\n",
              "\n",
              "  <svg xmlns=\"http://www.w3.org/2000/svg\" height=\"24px\" viewBox=\"0 -960 960 960\">\n",
              "    <path d=\"M120-120v-720h720v720H120Zm60-500h600v-160H180v160Zm220 220h160v-160H400v160Zm0 220h160v-160H400v160ZM180-400h160v-160H180v160Zm440 0h160v-160H620v160ZM180-180h160v-160H180v160Zm440 0h160v-160H620v160Z\"/>\n",
              "  </svg>\n",
              "    </button>\n",
              "\n",
              "  <style>\n",
              "    .colab-df-container {\n",
              "      display:flex;\n",
              "      gap: 12px;\n",
              "    }\n",
              "\n",
              "    .colab-df-convert {\n",
              "      background-color: #E8F0FE;\n",
              "      border: none;\n",
              "      border-radius: 50%;\n",
              "      cursor: pointer;\n",
              "      display: none;\n",
              "      fill: #1967D2;\n",
              "      height: 32px;\n",
              "      padding: 0 0 0 0;\n",
              "      width: 32px;\n",
              "    }\n",
              "\n",
              "    .colab-df-convert:hover {\n",
              "      background-color: #E2EBFA;\n",
              "      box-shadow: 0px 1px 2px rgba(60, 64, 67, 0.3), 0px 1px 3px 1px rgba(60, 64, 67, 0.15);\n",
              "      fill: #174EA6;\n",
              "    }\n",
              "\n",
              "    .colab-df-buttons div {\n",
              "      margin-bottom: 4px;\n",
              "    }\n",
              "\n",
              "    [theme=dark] .colab-df-convert {\n",
              "      background-color: #3B4455;\n",
              "      fill: #D2E3FC;\n",
              "    }\n",
              "\n",
              "    [theme=dark] .colab-df-convert:hover {\n",
              "      background-color: #434B5C;\n",
              "      box-shadow: 0px 1px 3px 1px rgba(0, 0, 0, 0.15);\n",
              "      filter: drop-shadow(0px 1px 2px rgba(0, 0, 0, 0.3));\n",
              "      fill: #FFFFFF;\n",
              "    }\n",
              "  </style>\n",
              "\n",
              "    <script>\n",
              "      const buttonEl =\n",
              "        document.querySelector('#df-1cc769e8-a925-45a8-b198-2e14071d4645 button.colab-df-convert');\n",
              "      buttonEl.style.display =\n",
              "        google.colab.kernel.accessAllowed ? 'block' : 'none';\n",
              "\n",
              "      async function convertToInteractive(key) {\n",
              "        const element = document.querySelector('#df-1cc769e8-a925-45a8-b198-2e14071d4645');\n",
              "        const dataTable =\n",
              "          await google.colab.kernel.invokeFunction('convertToInteractive',\n",
              "                                                    [key], {});\n",
              "        if (!dataTable) return;\n",
              "\n",
              "        const docLinkHtml = 'Like what you see? Visit the ' +\n",
              "          '<a target=\"_blank\" href=https://colab.research.google.com/notebooks/data_table.ipynb>data table notebook</a>'\n",
              "          + ' to learn more about interactive tables.';\n",
              "        element.innerHTML = '';\n",
              "        dataTable['output_type'] = 'display_data';\n",
              "        await google.colab.output.renderOutput(dataTable, element);\n",
              "        const docLink = document.createElement('div');\n",
              "        docLink.innerHTML = docLinkHtml;\n",
              "        element.appendChild(docLink);\n",
              "      }\n",
              "    </script>\n",
              "  </div>\n",
              "\n",
              "\n",
              "<div id=\"df-db59a75d-b3f1-4882-8aa8-a4fd8c55ed92\">\n",
              "  <button class=\"colab-df-quickchart\" onclick=\"quickchart('df-db59a75d-b3f1-4882-8aa8-a4fd8c55ed92')\"\n",
              "            title=\"Suggest charts.\"\n",
              "            style=\"display:none;\">\n",
              "\n",
              "<svg xmlns=\"http://www.w3.org/2000/svg\" height=\"24px\"viewBox=\"0 0 24 24\"\n",
              "     width=\"24px\">\n",
              "    <g>\n",
              "        <path d=\"M19 3H5c-1.1 0-2 .9-2 2v14c0 1.1.9 2 2 2h14c1.1 0 2-.9 2-2V5c0-1.1-.9-2-2-2zM9 17H7v-7h2v7zm4 0h-2V7h2v10zm4 0h-2v-4h2v4z\"/>\n",
              "    </g>\n",
              "</svg>\n",
              "  </button>\n",
              "\n",
              "<style>\n",
              "  .colab-df-quickchart {\n",
              "      --bg-color: #E8F0FE;\n",
              "      --fill-color: #1967D2;\n",
              "      --hover-bg-color: #E2EBFA;\n",
              "      --hover-fill-color: #174EA6;\n",
              "      --disabled-fill-color: #AAA;\n",
              "      --disabled-bg-color: #DDD;\n",
              "  }\n",
              "\n",
              "  [theme=dark] .colab-df-quickchart {\n",
              "      --bg-color: #3B4455;\n",
              "      --fill-color: #D2E3FC;\n",
              "      --hover-bg-color: #434B5C;\n",
              "      --hover-fill-color: #FFFFFF;\n",
              "      --disabled-bg-color: #3B4455;\n",
              "      --disabled-fill-color: #666;\n",
              "  }\n",
              "\n",
              "  .colab-df-quickchart {\n",
              "    background-color: var(--bg-color);\n",
              "    border: none;\n",
              "    border-radius: 50%;\n",
              "    cursor: pointer;\n",
              "    display: none;\n",
              "    fill: var(--fill-color);\n",
              "    height: 32px;\n",
              "    padding: 0;\n",
              "    width: 32px;\n",
              "  }\n",
              "\n",
              "  .colab-df-quickchart:hover {\n",
              "    background-color: var(--hover-bg-color);\n",
              "    box-shadow: 0 1px 2px rgba(60, 64, 67, 0.3), 0 1px 3px 1px rgba(60, 64, 67, 0.15);\n",
              "    fill: var(--button-hover-fill-color);\n",
              "  }\n",
              "\n",
              "  .colab-df-quickchart-complete:disabled,\n",
              "  .colab-df-quickchart-complete:disabled:hover {\n",
              "    background-color: var(--disabled-bg-color);\n",
              "    fill: var(--disabled-fill-color);\n",
              "    box-shadow: none;\n",
              "  }\n",
              "\n",
              "  .colab-df-spinner {\n",
              "    border: 2px solid var(--fill-color);\n",
              "    border-color: transparent;\n",
              "    border-bottom-color: var(--fill-color);\n",
              "    animation:\n",
              "      spin 1s steps(1) infinite;\n",
              "  }\n",
              "\n",
              "  @keyframes spin {\n",
              "    0% {\n",
              "      border-color: transparent;\n",
              "      border-bottom-color: var(--fill-color);\n",
              "      border-left-color: var(--fill-color);\n",
              "    }\n",
              "    20% {\n",
              "      border-color: transparent;\n",
              "      border-left-color: var(--fill-color);\n",
              "      border-top-color: var(--fill-color);\n",
              "    }\n",
              "    30% {\n",
              "      border-color: transparent;\n",
              "      border-left-color: var(--fill-color);\n",
              "      border-top-color: var(--fill-color);\n",
              "      border-right-color: var(--fill-color);\n",
              "    }\n",
              "    40% {\n",
              "      border-color: transparent;\n",
              "      border-right-color: var(--fill-color);\n",
              "      border-top-color: var(--fill-color);\n",
              "    }\n",
              "    60% {\n",
              "      border-color: transparent;\n",
              "      border-right-color: var(--fill-color);\n",
              "    }\n",
              "    80% {\n",
              "      border-color: transparent;\n",
              "      border-right-color: var(--fill-color);\n",
              "      border-bottom-color: var(--fill-color);\n",
              "    }\n",
              "    90% {\n",
              "      border-color: transparent;\n",
              "      border-bottom-color: var(--fill-color);\n",
              "    }\n",
              "  }\n",
              "</style>\n",
              "\n",
              "  <script>\n",
              "    async function quickchart(key) {\n",
              "      const quickchartButtonEl =\n",
              "        document.querySelector('#' + key + ' button');\n",
              "      quickchartButtonEl.disabled = true;  // To prevent multiple clicks.\n",
              "      quickchartButtonEl.classList.add('colab-df-spinner');\n",
              "      try {\n",
              "        const charts = await google.colab.kernel.invokeFunction(\n",
              "            'suggestCharts', [key], {});\n",
              "      } catch (error) {\n",
              "        console.error('Error during call to suggestCharts:', error);\n",
              "      }\n",
              "      quickchartButtonEl.classList.remove('colab-df-spinner');\n",
              "      quickchartButtonEl.classList.add('colab-df-quickchart-complete');\n",
              "    }\n",
              "    (() => {\n",
              "      let quickchartButtonEl =\n",
              "        document.querySelector('#df-db59a75d-b3f1-4882-8aa8-a4fd8c55ed92 button');\n",
              "      quickchartButtonEl.style.display =\n",
              "        google.colab.kernel.accessAllowed ? 'block' : 'none';\n",
              "    })();\n",
              "  </script>\n",
              "</div>\n",
              "    </div>\n",
              "  </div>\n"
            ]
          },
          "metadata": {},
          "execution_count": 186
        }
      ]
    },
    {
      "cell_type": "code",
      "source": [
        "\n",
        "len(ps_df.index)\n",
        "ps_df.info()"
      ],
      "metadata": {
        "colab": {
          "base_uri": "https://localhost:8080/"
        },
        "id": "aW5slqLxAtT_",
        "outputId": "de9e0edd-6e12-414c-dc65-131c3a5407a0"
      },
      "execution_count": 18,
      "outputs": [
        {
          "output_type": "stream",
          "name": "stdout",
          "text": [
            "<class 'pandas.core.frame.DataFrame'>\n",
            "RangeIndex: 4414 entries, 0 to 4413\n",
            "Columns: 465 entries, zrid to can5a_r\n",
            "dtypes: float64(2), int64(2), object(461)\n",
            "memory usage: 15.7+ MB\n"
          ]
        }
      ]
    },
    {
      "cell_type": "code",
      "source": [
        "ps_df.dtypes"
      ],
      "metadata": {
        "colab": {
          "base_uri": "https://localhost:8080/"
        },
        "id": "R9SkCpcCAtdh",
        "outputId": "f5b8a4ea-bf7f-4786-e4ea-921b604e1b82"
      },
      "execution_count": 5,
      "outputs": [
        {
          "output_type": "execute_result",
          "data": {
            "text/plain": [
              "zrid       object\n",
              "INT1a      object\n",
              "MED1       object\n",
              "MED2       object\n",
              "MED5       object\n",
              "            ...  \n",
              "MEN5c      object\n",
              "MEN5d      object\n",
              "can3a_r    object\n",
              "can4a_r    object\n",
              "can5a_r    object\n",
              "Length: 465, dtype: object"
            ]
          },
          "metadata": {},
          "execution_count": 5
        }
      ]
    },
    {
      "cell_type": "code",
      "source": [
        "ps_df.isnull().sum()"
      ],
      "metadata": {
        "colab": {
          "base_uri": "https://localhost:8080/"
        },
        "id": "xXbJ_M7zAtgi",
        "outputId": "23238246-0008-4c08-8adb-479f8226d9b5"
      },
      "execution_count": 19,
      "outputs": [
        {
          "output_type": "execute_result",
          "data": {
            "text/plain": [
              "zrid       0\n",
              "INT1a      0\n",
              "MED1       0\n",
              "MED2       0\n",
              "MED5       0\n",
              "          ..\n",
              "MEN5c      0\n",
              "MEN5d      0\n",
              "can3a_r    0\n",
              "can4a_r    0\n",
              "can5a_r    0\n",
              "Length: 465, dtype: int64"
            ]
          },
          "metadata": {},
          "execution_count": 19
        }
      ]
    },
    {
      "cell_type": "code",
      "source": [
        "df = ps_df.convert_dtypes()\n",
        "df.dtypes"
      ],
      "metadata": {
        "colab": {
          "base_uri": "https://localhost:8080/"
        },
        "id": "nPlxs_FTAtjt",
        "outputId": "14ca465b-3347-4585-a363-e3e187e5409d"
      },
      "execution_count": 187,
      "outputs": [
        {
          "output_type": "execute_result",
          "data": {
            "text/plain": [
              "zrid       string\n",
              "INT1a      string\n",
              "MED1       string\n",
              "MED2       string\n",
              "MED5       string\n",
              "            ...  \n",
              "MEN5c      string\n",
              "MEN5d      string\n",
              "can3a_r    string\n",
              "can4a_r    string\n",
              "can5a_r    string\n",
              "Length: 465, dtype: object"
            ]
          },
          "metadata": {},
          "execution_count": 187
        }
      ]
    },
    {
      "cell_type": "code",
      "source": [
        "df = df[['zrid', 'bmi_ind','HYPERTENSION','DIABETES','INT1a','MED1','MED2','ROU2c2','ROU17','CON1','CON6b','CON9c','CON10','CON12a','CON13b',\n",
        "         'CON14i','CON14j','FOLL_CONF3a','FOLL_CONF3b','FOLL_CONF3c','FOLL_CONF3d','FOLL_CONF5e1','FOLL_CONF5e2','FOLL_CONF5e3','FOLL_CONF5e4','FOLL_CON22a','FOLL_CON22b','FOLL_CON22c','FOLL_CON22d',\n",
        "         'HEA1','HEA6a','HEA7a','HEA7e_a','HEA7e_b','HEA7e_c','HEA7e_d','HEA18','HEA23','HEA25','HEA27','HEA29','HEA31','HEA32',\n",
        "         'HEA33','HEA34','HEA35','HEA36','HEA51','HEA52', 'ROU8','ROU9f2','ROU14',\n",
        "         'numper','NEI7_r','race_simp','dental_sat','smkstat', 'hlthstat','lang_pref','SocialRisk','EDUCATION_IMP',\n",
        "         'Employmt','fpl','agecat5','sex_at_birth','InsurStatus','SUB10b','SUB9a','SUB1k']]\n",
        "len(df.index)"
      ],
      "metadata": {
        "colab": {
          "base_uri": "https://localhost:8080/"
        },
        "id": "R0TlvDnPAtmQ",
        "outputId": "ca2e939a-1127-43a5-d948-420f9bff29bd"
      },
      "execution_count": 188,
      "outputs": [
        {
          "output_type": "execute_result",
          "data": {
            "text/plain": [
              "4414"
            ]
          },
          "metadata": {},
          "execution_count": 188
        }
      ]
    },
    {
      "cell_type": "code",
      "source": [
        "df.dtypes"
      ],
      "metadata": {
        "colab": {
          "base_uri": "https://localhost:8080/"
        },
        "id": "PLf4CUXDoJQV",
        "outputId": "6511020e-13a5-4ac4-b991-cfcf465327d1"
      },
      "execution_count": 92,
      "outputs": [
        {
          "output_type": "execute_result",
          "data": {
            "text/plain": [
              "zrid            string\n",
              "bmi_ind         string\n",
              "HYPERTENSION    string\n",
              "DIABETES        string\n",
              "INT1a           string\n",
              "                 ...  \n",
              "sex_at_birth    string\n",
              "InsurStatus     string\n",
              "SUB10b          string\n",
              "SUB9a           string\n",
              "SUB1k           string\n",
              "Length: 69, dtype: object"
            ]
          },
          "metadata": {},
          "execution_count": 92
        }
      ]
    },
    {
      "cell_type": "code",
      "source": [
        "#DO NOT EXECUTE\n",
        "df = df[~df.astype(str).apply(lambda row: row.str.contains('Missing').any(), axis=1)]\n",
        "print(df)"
      ],
      "metadata": {
        "colab": {
          "base_uri": "https://localhost:8080/"
        },
        "id": "Qa1HWe2ppHen",
        "outputId": "9b6d64a9-5685-46fa-b446-14508fff5c45"
      },
      "execution_count": 155,
      "outputs": [
        {
          "output_type": "stream",
          "name": "stdout",
          "text": [
            "Empty DataFrame\n",
            "Columns: [zrid, bmi_ind, HYPERTENSION, DIABETES, INT1a, MED1, MED2, ROU2c2, ROU17, CON1, CON6b, CON9c, CON10, CON12a, CON13b, CON14i, CON14j, FOLL_CONF3a, FOLL_CONF3b, FOLL_CONF3c, FOLL_CONF3d, FOLL_CONF5e1, FOLL_CONF5e2, FOLL_CONF5e3, FOLL_CONF5e4, FOLL_CON22a, FOLL_CON22b, FOLL_CON22c, FOLL_CON22d, HEA1, HEA6a, HEA7a, HEA7e_a, HEA7e_b, HEA7e_c, HEA7e_d, HEA18, HEA23, HEA25, HEA27, HEA29, HEA31, HEA32, HEA33, HEA34, HEA35, HEA36, HEA51, HEA52, ROU8, ROU9f2, ROU14, numper, NEI7_r, race_simp, dental_sat, smkstat, hlthstat, lang_pref, SocialRisk, EDUCATION_IMP, Employmt, fpl, agecat5, sex_at_birth, InsurStatus, SUB10b, SUB9a, SUB1k]\n",
            "Index: []\n",
            "\n",
            "[0 rows x 69 columns]\n"
          ]
        }
      ]
    },
    {
      "cell_type": "code",
      "source": [
        "missing_counts = df.apply(lambda col: col.astype(str).str.strip().str.lower().eq('missing').sum())\n",
        "\n",
        "# Specify the threshold (e.g., 150)\n",
        "threshold = 1500\n",
        "\n",
        "# Drop columns with more than the specified threshold of 'Missing' values\n",
        "df = df.drop(columns=missing_counts[missing_counts > threshold].index)\n"
      ],
      "metadata": {
        "id": "PakRozs-pZH3"
      },
      "execution_count": 189,
      "outputs": []
    },
    {
      "cell_type": "code",
      "source": [
        "df.dtypes"
      ],
      "metadata": {
        "colab": {
          "base_uri": "https://localhost:8080/"
        },
        "id": "gBga1C8Lp1UA",
        "outputId": "6abb4c97-4003-4e7a-b017-0329246b6aac"
      },
      "execution_count": 94,
      "outputs": [
        {
          "output_type": "execute_result",
          "data": {
            "text/plain": [
              "zrid             string\n",
              "bmi_ind          string\n",
              "HYPERTENSION     string\n",
              "DIABETES         string\n",
              "INT1a            string\n",
              "MED1             string\n",
              "CON1             string\n",
              "CON6b            string\n",
              "CON10            string\n",
              "CON12a           string\n",
              "CON13b           string\n",
              "CON14i           string\n",
              "CON14j           string\n",
              "HEA1             string\n",
              "HEA7a            string\n",
              "HEA7e_a          string\n",
              "HEA7e_b          string\n",
              "HEA7e_d          string\n",
              "HEA18            string\n",
              "HEA27            string\n",
              "HEA29            string\n",
              "HEA31            string\n",
              "HEA32            string\n",
              "HEA33            string\n",
              "HEA34            string\n",
              "HEA35            string\n",
              "HEA36            string\n",
              "HEA51            string\n",
              "HEA52            string\n",
              "ROU9f2           string\n",
              "numper           string\n",
              "NEI7_r           string\n",
              "race_simp        string\n",
              "smkstat          string\n",
              "hlthstat         string\n",
              "lang_pref        string\n",
              "SocialRisk       string\n",
              "EDUCATION_IMP    string\n",
              "Employmt         string\n",
              "fpl              string\n",
              "agecat5          string\n",
              "sex_at_birth     string\n",
              "InsurStatus      string\n",
              "dtype: object"
            ]
          },
          "metadata": {},
          "execution_count": 94
        }
      ]
    },
    {
      "cell_type": "code",
      "source": [
        "df.head(150)"
      ],
      "metadata": {
        "colab": {
          "base_uri": "https://localhost:8080/",
          "height": 811
        },
        "id": "a3SY_HOKqTOF",
        "outputId": "bde0f43d-9328-47bb-d1a5-0282253081d6"
      },
      "execution_count": 95,
      "outputs": [
        {
          "output_type": "execute_result",
          "data": {
            "text/plain": [
              "         zrid                      bmi_ind HYPERTENSION DIABETES INT1a MED1  \\\n",
              "0    1014017P                        Obese           No      Yes   Yes  Yes   \n",
              "1    1014018P  Neither Overweight or Obese           No      Yes    No  Yes   \n",
              "2    1014026P  Neither Overweight or Obese           No       No   Yes   No   \n",
              "3    1015012P  Neither Overweight or Obese          Yes       No    No  Yes   \n",
              "4    1015013P                        Obese           No       No   Yes  Yes   \n",
              "..        ...                          ...          ...      ...   ...  ...   \n",
              "145  1025189P                        Obese          Yes       No    No   No   \n",
              "146  1025190P                        Obese           No      Yes    No  Yes   \n",
              "147  1025191P                        Obese          Yes       No    No   No   \n",
              "148  1025192P                        Obese           No       No    No  Yes   \n",
              "149  1025193P                   Overweight          Yes       No    No   No   \n",
              "\n",
              "          CON1 CON6b CON10   CON12a  ...         smkstat      hlthstat  \\\n",
              "0         Good   Yes    No  Missing  ...      Non-Smoker          Good   \n",
              "1         Good   Yes    No  Missing  ...      Non-Smoker          Good   \n",
              "2    Excellent    No    No       No  ...         Missing     Excellent   \n",
              "3         Good    No   Yes       No  ...      Non-Smoker          Good   \n",
              "4         Good   Yes    No       No  ...      Non-Smoker          Good   \n",
              "..         ...   ...   ...      ...  ...             ...           ...   \n",
              "145  Very good   Yes   Yes      Yes  ...      Non-Smoker     Very Good   \n",
              "146       Fair   Yes    No  Missing  ...      Non-Smoker  Fair or Poor   \n",
              "147  Very good   Yes   Yes      Yes  ...  Current Smoker     Very Good   \n",
              "148       Good   Yes    No      Yes  ...      Non-Smoker          Good   \n",
              "149       Fair   Yes   Yes       No  ...  Current Smoker  Fair or Poor   \n",
              "\n",
              "                            lang_pref             SocialRisk  \\\n",
              "0    English and non-English Language  Feel generally unsafe   \n",
              "1    English and non-English Language    Feel generally safe   \n",
              "2     Other non-English Language Only    Feel generally safe   \n",
              "3                        English Only                Missing   \n",
              "4                        English Only    Feel generally safe   \n",
              "..                                ...                    ...   \n",
              "145                      English Only    Feel generally safe   \n",
              "146                      English Only    Feel generally safe   \n",
              "147                      English Only    Feel generally safe   \n",
              "148                      English Only    Feel generally safe   \n",
              "149                      English Only    Feel generally safe   \n",
              "\n",
              "             EDUCATION_IMP            Employmt  \\\n",
              "0    Less than high school          Unemployed   \n",
              "1    More than high school  Not in Labor Force   \n",
              "2    Less than high school  Not in Labor Force   \n",
              "3              High school  Not in Labor Force   \n",
              "4    More than high school  Not in Labor Force   \n",
              "..                     ...                 ...   \n",
              "145            High school            Employed   \n",
              "146  More than high school          Unemployed   \n",
              "147            High school  Not in Labor Force   \n",
              "148  More than high school            Employed   \n",
              "149            High school  Not in Labor Force   \n",
              "\n",
              "                                fpl      agecat5 sex_at_birth  \\\n",
              "0    Less than or Equal to 100% FPL  45-64 Years       Female   \n",
              "1             201% or More than FPL  45-64 Years       Female   \n",
              "2    Less than or Equal to 100% FPL   0-17 Years         Male   \n",
              "3                  101% to 200% FPL  18-44 Years       Female   \n",
              "4             201% or More than FPL  45-64 Years         Male   \n",
              "..                              ...          ...          ...   \n",
              "145                101% to 200% FPL  45-64 Years       Female   \n",
              "146                101% to 200% FPL  18-44 Years       Female   \n",
              "147  Less than or Equal to 100% FPL  45-64 Years         Male   \n",
              "148                101% to 200% FPL  45-64 Years       Female   \n",
              "149  Less than or Equal to 100% FPL  45-64 Years       Female   \n",
              "\n",
              "                      InsurStatus  \n",
              "0     Publicly Obtained Insurance  \n",
              "1    Privately Obtained Insurance  \n",
              "2                        Medicaid  \n",
              "3                        Medicaid  \n",
              "4                        Medicare  \n",
              "..                            ...  \n",
              "145   Publicly Obtained Insurance  \n",
              "146                      Medicare  \n",
              "147                      Medicaid  \n",
              "148  Privately Obtained Insurance  \n",
              "149                      Medicaid  \n",
              "\n",
              "[150 rows x 43 columns]"
            ],
            "text/html": [
              "\n",
              "  <div id=\"df-ddffa1a5-efa9-44fb-8a17-ef42981d6948\" class=\"colab-df-container\">\n",
              "    <div>\n",
              "<style scoped>\n",
              "    .dataframe tbody tr th:only-of-type {\n",
              "        vertical-align: middle;\n",
              "    }\n",
              "\n",
              "    .dataframe tbody tr th {\n",
              "        vertical-align: top;\n",
              "    }\n",
              "\n",
              "    .dataframe thead th {\n",
              "        text-align: right;\n",
              "    }\n",
              "</style>\n",
              "<table border=\"1\" class=\"dataframe\">\n",
              "  <thead>\n",
              "    <tr style=\"text-align: right;\">\n",
              "      <th></th>\n",
              "      <th>zrid</th>\n",
              "      <th>bmi_ind</th>\n",
              "      <th>HYPERTENSION</th>\n",
              "      <th>DIABETES</th>\n",
              "      <th>INT1a</th>\n",
              "      <th>MED1</th>\n",
              "      <th>CON1</th>\n",
              "      <th>CON6b</th>\n",
              "      <th>CON10</th>\n",
              "      <th>CON12a</th>\n",
              "      <th>...</th>\n",
              "      <th>smkstat</th>\n",
              "      <th>hlthstat</th>\n",
              "      <th>lang_pref</th>\n",
              "      <th>SocialRisk</th>\n",
              "      <th>EDUCATION_IMP</th>\n",
              "      <th>Employmt</th>\n",
              "      <th>fpl</th>\n",
              "      <th>agecat5</th>\n",
              "      <th>sex_at_birth</th>\n",
              "      <th>InsurStatus</th>\n",
              "    </tr>\n",
              "  </thead>\n",
              "  <tbody>\n",
              "    <tr>\n",
              "      <th>0</th>\n",
              "      <td>1014017P</td>\n",
              "      <td>Obese</td>\n",
              "      <td>No</td>\n",
              "      <td>Yes</td>\n",
              "      <td>Yes</td>\n",
              "      <td>Yes</td>\n",
              "      <td>Good</td>\n",
              "      <td>Yes</td>\n",
              "      <td>No</td>\n",
              "      <td>Missing</td>\n",
              "      <td>...</td>\n",
              "      <td>Non-Smoker</td>\n",
              "      <td>Good</td>\n",
              "      <td>English and non-English Language</td>\n",
              "      <td>Feel generally unsafe</td>\n",
              "      <td>Less than high school</td>\n",
              "      <td>Unemployed</td>\n",
              "      <td>Less than or Equal to 100% FPL</td>\n",
              "      <td>45-64 Years</td>\n",
              "      <td>Female</td>\n",
              "      <td>Publicly Obtained Insurance</td>\n",
              "    </tr>\n",
              "    <tr>\n",
              "      <th>1</th>\n",
              "      <td>1014018P</td>\n",
              "      <td>Neither Overweight or Obese</td>\n",
              "      <td>No</td>\n",
              "      <td>Yes</td>\n",
              "      <td>No</td>\n",
              "      <td>Yes</td>\n",
              "      <td>Good</td>\n",
              "      <td>Yes</td>\n",
              "      <td>No</td>\n",
              "      <td>Missing</td>\n",
              "      <td>...</td>\n",
              "      <td>Non-Smoker</td>\n",
              "      <td>Good</td>\n",
              "      <td>English and non-English Language</td>\n",
              "      <td>Feel generally safe</td>\n",
              "      <td>More than high school</td>\n",
              "      <td>Not in Labor Force</td>\n",
              "      <td>201% or More than FPL</td>\n",
              "      <td>45-64 Years</td>\n",
              "      <td>Female</td>\n",
              "      <td>Privately Obtained Insurance</td>\n",
              "    </tr>\n",
              "    <tr>\n",
              "      <th>2</th>\n",
              "      <td>1014026P</td>\n",
              "      <td>Neither Overweight or Obese</td>\n",
              "      <td>No</td>\n",
              "      <td>No</td>\n",
              "      <td>Yes</td>\n",
              "      <td>No</td>\n",
              "      <td>Excellent</td>\n",
              "      <td>No</td>\n",
              "      <td>No</td>\n",
              "      <td>No</td>\n",
              "      <td>...</td>\n",
              "      <td>Missing</td>\n",
              "      <td>Excellent</td>\n",
              "      <td>Other non-English Language Only</td>\n",
              "      <td>Feel generally safe</td>\n",
              "      <td>Less than high school</td>\n",
              "      <td>Not in Labor Force</td>\n",
              "      <td>Less than or Equal to 100% FPL</td>\n",
              "      <td>0-17 Years</td>\n",
              "      <td>Male</td>\n",
              "      <td>Medicaid</td>\n",
              "    </tr>\n",
              "    <tr>\n",
              "      <th>3</th>\n",
              "      <td>1015012P</td>\n",
              "      <td>Neither Overweight or Obese</td>\n",
              "      <td>Yes</td>\n",
              "      <td>No</td>\n",
              "      <td>No</td>\n",
              "      <td>Yes</td>\n",
              "      <td>Good</td>\n",
              "      <td>No</td>\n",
              "      <td>Yes</td>\n",
              "      <td>No</td>\n",
              "      <td>...</td>\n",
              "      <td>Non-Smoker</td>\n",
              "      <td>Good</td>\n",
              "      <td>English Only</td>\n",
              "      <td>Missing</td>\n",
              "      <td>High school</td>\n",
              "      <td>Not in Labor Force</td>\n",
              "      <td>101% to 200% FPL</td>\n",
              "      <td>18-44 Years</td>\n",
              "      <td>Female</td>\n",
              "      <td>Medicaid</td>\n",
              "    </tr>\n",
              "    <tr>\n",
              "      <th>4</th>\n",
              "      <td>1015013P</td>\n",
              "      <td>Obese</td>\n",
              "      <td>No</td>\n",
              "      <td>No</td>\n",
              "      <td>Yes</td>\n",
              "      <td>Yes</td>\n",
              "      <td>Good</td>\n",
              "      <td>Yes</td>\n",
              "      <td>No</td>\n",
              "      <td>No</td>\n",
              "      <td>...</td>\n",
              "      <td>Non-Smoker</td>\n",
              "      <td>Good</td>\n",
              "      <td>English Only</td>\n",
              "      <td>Feel generally safe</td>\n",
              "      <td>More than high school</td>\n",
              "      <td>Not in Labor Force</td>\n",
              "      <td>201% or More than FPL</td>\n",
              "      <td>45-64 Years</td>\n",
              "      <td>Male</td>\n",
              "      <td>Medicare</td>\n",
              "    </tr>\n",
              "    <tr>\n",
              "      <th>...</th>\n",
              "      <td>...</td>\n",
              "      <td>...</td>\n",
              "      <td>...</td>\n",
              "      <td>...</td>\n",
              "      <td>...</td>\n",
              "      <td>...</td>\n",
              "      <td>...</td>\n",
              "      <td>...</td>\n",
              "      <td>...</td>\n",
              "      <td>...</td>\n",
              "      <td>...</td>\n",
              "      <td>...</td>\n",
              "      <td>...</td>\n",
              "      <td>...</td>\n",
              "      <td>...</td>\n",
              "      <td>...</td>\n",
              "      <td>...</td>\n",
              "      <td>...</td>\n",
              "      <td>...</td>\n",
              "      <td>...</td>\n",
              "      <td>...</td>\n",
              "    </tr>\n",
              "    <tr>\n",
              "      <th>145</th>\n",
              "      <td>1025189P</td>\n",
              "      <td>Obese</td>\n",
              "      <td>Yes</td>\n",
              "      <td>No</td>\n",
              "      <td>No</td>\n",
              "      <td>No</td>\n",
              "      <td>Very good</td>\n",
              "      <td>Yes</td>\n",
              "      <td>Yes</td>\n",
              "      <td>Yes</td>\n",
              "      <td>...</td>\n",
              "      <td>Non-Smoker</td>\n",
              "      <td>Very Good</td>\n",
              "      <td>English Only</td>\n",
              "      <td>Feel generally safe</td>\n",
              "      <td>High school</td>\n",
              "      <td>Employed</td>\n",
              "      <td>101% to 200% FPL</td>\n",
              "      <td>45-64 Years</td>\n",
              "      <td>Female</td>\n",
              "      <td>Publicly Obtained Insurance</td>\n",
              "    </tr>\n",
              "    <tr>\n",
              "      <th>146</th>\n",
              "      <td>1025190P</td>\n",
              "      <td>Obese</td>\n",
              "      <td>No</td>\n",
              "      <td>Yes</td>\n",
              "      <td>No</td>\n",
              "      <td>Yes</td>\n",
              "      <td>Fair</td>\n",
              "      <td>Yes</td>\n",
              "      <td>No</td>\n",
              "      <td>Missing</td>\n",
              "      <td>...</td>\n",
              "      <td>Non-Smoker</td>\n",
              "      <td>Fair or Poor</td>\n",
              "      <td>English Only</td>\n",
              "      <td>Feel generally safe</td>\n",
              "      <td>More than high school</td>\n",
              "      <td>Unemployed</td>\n",
              "      <td>101% to 200% FPL</td>\n",
              "      <td>18-44 Years</td>\n",
              "      <td>Female</td>\n",
              "      <td>Medicare</td>\n",
              "    </tr>\n",
              "    <tr>\n",
              "      <th>147</th>\n",
              "      <td>1025191P</td>\n",
              "      <td>Obese</td>\n",
              "      <td>Yes</td>\n",
              "      <td>No</td>\n",
              "      <td>No</td>\n",
              "      <td>No</td>\n",
              "      <td>Very good</td>\n",
              "      <td>Yes</td>\n",
              "      <td>Yes</td>\n",
              "      <td>Yes</td>\n",
              "      <td>...</td>\n",
              "      <td>Current Smoker</td>\n",
              "      <td>Very Good</td>\n",
              "      <td>English Only</td>\n",
              "      <td>Feel generally safe</td>\n",
              "      <td>High school</td>\n",
              "      <td>Not in Labor Force</td>\n",
              "      <td>Less than or Equal to 100% FPL</td>\n",
              "      <td>45-64 Years</td>\n",
              "      <td>Male</td>\n",
              "      <td>Medicaid</td>\n",
              "    </tr>\n",
              "    <tr>\n",
              "      <th>148</th>\n",
              "      <td>1025192P</td>\n",
              "      <td>Obese</td>\n",
              "      <td>No</td>\n",
              "      <td>No</td>\n",
              "      <td>No</td>\n",
              "      <td>Yes</td>\n",
              "      <td>Good</td>\n",
              "      <td>Yes</td>\n",
              "      <td>No</td>\n",
              "      <td>Yes</td>\n",
              "      <td>...</td>\n",
              "      <td>Non-Smoker</td>\n",
              "      <td>Good</td>\n",
              "      <td>English Only</td>\n",
              "      <td>Feel generally safe</td>\n",
              "      <td>More than high school</td>\n",
              "      <td>Employed</td>\n",
              "      <td>101% to 200% FPL</td>\n",
              "      <td>45-64 Years</td>\n",
              "      <td>Female</td>\n",
              "      <td>Privately Obtained Insurance</td>\n",
              "    </tr>\n",
              "    <tr>\n",
              "      <th>149</th>\n",
              "      <td>1025193P</td>\n",
              "      <td>Overweight</td>\n",
              "      <td>Yes</td>\n",
              "      <td>No</td>\n",
              "      <td>No</td>\n",
              "      <td>No</td>\n",
              "      <td>Fair</td>\n",
              "      <td>Yes</td>\n",
              "      <td>Yes</td>\n",
              "      <td>No</td>\n",
              "      <td>...</td>\n",
              "      <td>Current Smoker</td>\n",
              "      <td>Fair or Poor</td>\n",
              "      <td>English Only</td>\n",
              "      <td>Feel generally safe</td>\n",
              "      <td>High school</td>\n",
              "      <td>Not in Labor Force</td>\n",
              "      <td>Less than or Equal to 100% FPL</td>\n",
              "      <td>45-64 Years</td>\n",
              "      <td>Female</td>\n",
              "      <td>Medicaid</td>\n",
              "    </tr>\n",
              "  </tbody>\n",
              "</table>\n",
              "<p>150 rows × 43 columns</p>\n",
              "</div>\n",
              "    <div class=\"colab-df-buttons\">\n",
              "\n",
              "  <div class=\"colab-df-container\">\n",
              "    <button class=\"colab-df-convert\" onclick=\"convertToInteractive('df-ddffa1a5-efa9-44fb-8a17-ef42981d6948')\"\n",
              "            title=\"Convert this dataframe to an interactive table.\"\n",
              "            style=\"display:none;\">\n",
              "\n",
              "  <svg xmlns=\"http://www.w3.org/2000/svg\" height=\"24px\" viewBox=\"0 -960 960 960\">\n",
              "    <path d=\"M120-120v-720h720v720H120Zm60-500h600v-160H180v160Zm220 220h160v-160H400v160Zm0 220h160v-160H400v160ZM180-400h160v-160H180v160Zm440 0h160v-160H620v160ZM180-180h160v-160H180v160Zm440 0h160v-160H620v160Z\"/>\n",
              "  </svg>\n",
              "    </button>\n",
              "\n",
              "  <style>\n",
              "    .colab-df-container {\n",
              "      display:flex;\n",
              "      gap: 12px;\n",
              "    }\n",
              "\n",
              "    .colab-df-convert {\n",
              "      background-color: #E8F0FE;\n",
              "      border: none;\n",
              "      border-radius: 50%;\n",
              "      cursor: pointer;\n",
              "      display: none;\n",
              "      fill: #1967D2;\n",
              "      height: 32px;\n",
              "      padding: 0 0 0 0;\n",
              "      width: 32px;\n",
              "    }\n",
              "\n",
              "    .colab-df-convert:hover {\n",
              "      background-color: #E2EBFA;\n",
              "      box-shadow: 0px 1px 2px rgba(60, 64, 67, 0.3), 0px 1px 3px 1px rgba(60, 64, 67, 0.15);\n",
              "      fill: #174EA6;\n",
              "    }\n",
              "\n",
              "    .colab-df-buttons div {\n",
              "      margin-bottom: 4px;\n",
              "    }\n",
              "\n",
              "    [theme=dark] .colab-df-convert {\n",
              "      background-color: #3B4455;\n",
              "      fill: #D2E3FC;\n",
              "    }\n",
              "\n",
              "    [theme=dark] .colab-df-convert:hover {\n",
              "      background-color: #434B5C;\n",
              "      box-shadow: 0px 1px 3px 1px rgba(0, 0, 0, 0.15);\n",
              "      filter: drop-shadow(0px 1px 2px rgba(0, 0, 0, 0.3));\n",
              "      fill: #FFFFFF;\n",
              "    }\n",
              "  </style>\n",
              "\n",
              "    <script>\n",
              "      const buttonEl =\n",
              "        document.querySelector('#df-ddffa1a5-efa9-44fb-8a17-ef42981d6948 button.colab-df-convert');\n",
              "      buttonEl.style.display =\n",
              "        google.colab.kernel.accessAllowed ? 'block' : 'none';\n",
              "\n",
              "      async function convertToInteractive(key) {\n",
              "        const element = document.querySelector('#df-ddffa1a5-efa9-44fb-8a17-ef42981d6948');\n",
              "        const dataTable =\n",
              "          await google.colab.kernel.invokeFunction('convertToInteractive',\n",
              "                                                    [key], {});\n",
              "        if (!dataTable) return;\n",
              "\n",
              "        const docLinkHtml = 'Like what you see? Visit the ' +\n",
              "          '<a target=\"_blank\" href=https://colab.research.google.com/notebooks/data_table.ipynb>data table notebook</a>'\n",
              "          + ' to learn more about interactive tables.';\n",
              "        element.innerHTML = '';\n",
              "        dataTable['output_type'] = 'display_data';\n",
              "        await google.colab.output.renderOutput(dataTable, element);\n",
              "        const docLink = document.createElement('div');\n",
              "        docLink.innerHTML = docLinkHtml;\n",
              "        element.appendChild(docLink);\n",
              "      }\n",
              "    </script>\n",
              "  </div>\n",
              "\n",
              "\n",
              "<div id=\"df-7b6ef63a-1f9e-4042-94a2-9e0d07504291\">\n",
              "  <button class=\"colab-df-quickchart\" onclick=\"quickchart('df-7b6ef63a-1f9e-4042-94a2-9e0d07504291')\"\n",
              "            title=\"Suggest charts.\"\n",
              "            style=\"display:none;\">\n",
              "\n",
              "<svg xmlns=\"http://www.w3.org/2000/svg\" height=\"24px\"viewBox=\"0 0 24 24\"\n",
              "     width=\"24px\">\n",
              "    <g>\n",
              "        <path d=\"M19 3H5c-1.1 0-2 .9-2 2v14c0 1.1.9 2 2 2h14c1.1 0 2-.9 2-2V5c0-1.1-.9-2-2-2zM9 17H7v-7h2v7zm4 0h-2V7h2v10zm4 0h-2v-4h2v4z\"/>\n",
              "    </g>\n",
              "</svg>\n",
              "  </button>\n",
              "\n",
              "<style>\n",
              "  .colab-df-quickchart {\n",
              "      --bg-color: #E8F0FE;\n",
              "      --fill-color: #1967D2;\n",
              "      --hover-bg-color: #E2EBFA;\n",
              "      --hover-fill-color: #174EA6;\n",
              "      --disabled-fill-color: #AAA;\n",
              "      --disabled-bg-color: #DDD;\n",
              "  }\n",
              "\n",
              "  [theme=dark] .colab-df-quickchart {\n",
              "      --bg-color: #3B4455;\n",
              "      --fill-color: #D2E3FC;\n",
              "      --hover-bg-color: #434B5C;\n",
              "      --hover-fill-color: #FFFFFF;\n",
              "      --disabled-bg-color: #3B4455;\n",
              "      --disabled-fill-color: #666;\n",
              "  }\n",
              "\n",
              "  .colab-df-quickchart {\n",
              "    background-color: var(--bg-color);\n",
              "    border: none;\n",
              "    border-radius: 50%;\n",
              "    cursor: pointer;\n",
              "    display: none;\n",
              "    fill: var(--fill-color);\n",
              "    height: 32px;\n",
              "    padding: 0;\n",
              "    width: 32px;\n",
              "  }\n",
              "\n",
              "  .colab-df-quickchart:hover {\n",
              "    background-color: var(--hover-bg-color);\n",
              "    box-shadow: 0 1px 2px rgba(60, 64, 67, 0.3), 0 1px 3px 1px rgba(60, 64, 67, 0.15);\n",
              "    fill: var(--button-hover-fill-color);\n",
              "  }\n",
              "\n",
              "  .colab-df-quickchart-complete:disabled,\n",
              "  .colab-df-quickchart-complete:disabled:hover {\n",
              "    background-color: var(--disabled-bg-color);\n",
              "    fill: var(--disabled-fill-color);\n",
              "    box-shadow: none;\n",
              "  }\n",
              "\n",
              "  .colab-df-spinner {\n",
              "    border: 2px solid var(--fill-color);\n",
              "    border-color: transparent;\n",
              "    border-bottom-color: var(--fill-color);\n",
              "    animation:\n",
              "      spin 1s steps(1) infinite;\n",
              "  }\n",
              "\n",
              "  @keyframes spin {\n",
              "    0% {\n",
              "      border-color: transparent;\n",
              "      border-bottom-color: var(--fill-color);\n",
              "      border-left-color: var(--fill-color);\n",
              "    }\n",
              "    20% {\n",
              "      border-color: transparent;\n",
              "      border-left-color: var(--fill-color);\n",
              "      border-top-color: var(--fill-color);\n",
              "    }\n",
              "    30% {\n",
              "      border-color: transparent;\n",
              "      border-left-color: var(--fill-color);\n",
              "      border-top-color: var(--fill-color);\n",
              "      border-right-color: var(--fill-color);\n",
              "    }\n",
              "    40% {\n",
              "      border-color: transparent;\n",
              "      border-right-color: var(--fill-color);\n",
              "      border-top-color: var(--fill-color);\n",
              "    }\n",
              "    60% {\n",
              "      border-color: transparent;\n",
              "      border-right-color: var(--fill-color);\n",
              "    }\n",
              "    80% {\n",
              "      border-color: transparent;\n",
              "      border-right-color: var(--fill-color);\n",
              "      border-bottom-color: var(--fill-color);\n",
              "    }\n",
              "    90% {\n",
              "      border-color: transparent;\n",
              "      border-bottom-color: var(--fill-color);\n",
              "    }\n",
              "  }\n",
              "</style>\n",
              "\n",
              "  <script>\n",
              "    async function quickchart(key) {\n",
              "      const quickchartButtonEl =\n",
              "        document.querySelector('#' + key + ' button');\n",
              "      quickchartButtonEl.disabled = true;  // To prevent multiple clicks.\n",
              "      quickchartButtonEl.classList.add('colab-df-spinner');\n",
              "      try {\n",
              "        const charts = await google.colab.kernel.invokeFunction(\n",
              "            'suggestCharts', [key], {});\n",
              "      } catch (error) {\n",
              "        console.error('Error during call to suggestCharts:', error);\n",
              "      }\n",
              "      quickchartButtonEl.classList.remove('colab-df-spinner');\n",
              "      quickchartButtonEl.classList.add('colab-df-quickchart-complete');\n",
              "    }\n",
              "    (() => {\n",
              "      let quickchartButtonEl =\n",
              "        document.querySelector('#df-7b6ef63a-1f9e-4042-94a2-9e0d07504291 button');\n",
              "      quickchartButtonEl.style.display =\n",
              "        google.colab.kernel.accessAllowed ? 'block' : 'none';\n",
              "    })();\n",
              "  </script>\n",
              "</div>\n",
              "    </div>\n",
              "  </div>\n"
            ]
          },
          "metadata": {},
          "execution_count": 95
        }
      ]
    },
    {
      "cell_type": "code",
      "source": [
        "# Define a mapping for Yes and No\n",
        "yes_no_mapping = {'Yes': 1, 'No': 0}\n",
        "\n",
        "# Iterate through the columns\n",
        "for col in df.columns:\n",
        "    if df[col].apply(lambda x: x in yes_no_mapping).all():\n",
        "        df[col] = df[col].map(yes_no_mapping)\n",
        "\n",
        "print(df)"
      ],
      "metadata": {
        "colab": {
          "base_uri": "https://localhost:8080/"
        },
        "id": "m0AIpd3MxOD2",
        "outputId": "4ce322d2-23de-4dc2-d474-e6e360599ff8"
      },
      "execution_count": 190,
      "outputs": [
        {
          "output_type": "stream",
          "name": "stdout",
          "text": [
            "          zrid                      bmi_ind  HYPERTENSION  DIABETES INT1a  \\\n",
            "0     1014017P                        Obese             0         1   Yes   \n",
            "1     1014018P  Neither Overweight or Obese             0         1    No   \n",
            "2     1014026P  Neither Overweight or Obese             0         0   Yes   \n",
            "3     1015012P  Neither Overweight or Obese             1         0    No   \n",
            "4     1015013P                        Obese             0         0   Yes   \n",
            "...        ...                          ...           ...       ...   ...   \n",
            "4409  1086076P                   Overweight             1         0   Yes   \n",
            "4410  1086077P                   Overweight             0         0   Yes   \n",
            "4411  1087010P                   Overweight             0         0    No   \n",
            "4412  1087011P                   Overweight             0         0    No   \n",
            "4413  1087013P                   Overweight             0         0    No   \n",
            "\n",
            "     MED1       CON1 CON6b CON10   CON12a  ...         smkstat      hlthstat  \\\n",
            "0     Yes       Good   Yes    No  Missing  ...      Non-Smoker          Good   \n",
            "1     Yes       Good   Yes    No  Missing  ...      Non-Smoker          Good   \n",
            "2      No  Excellent    No    No       No  ...         Missing     Excellent   \n",
            "3     Yes       Good    No   Yes       No  ...      Non-Smoker          Good   \n",
            "4     Yes       Good   Yes    No       No  ...      Non-Smoker          Good   \n",
            "...   ...        ...   ...   ...      ...  ...             ...           ...   \n",
            "4409  Yes       Fair    No   Yes       No  ...  Current Smoker  Fair or Poor   \n",
            "4410   No  Very good    No    No       No  ...      Non-Smoker     Very Good   \n",
            "4411  Yes  Excellent   Yes    No       No  ...      Non-Smoker     Excellent   \n",
            "4412  Yes  Very good   Yes    No       No  ...      Non-Smoker     Very Good   \n",
            "4413  Yes  Very good   Yes    No      Yes  ...      Non-Smoker     Very Good   \n",
            "\n",
            "                             lang_pref             SocialRisk  \\\n",
            "0     English and non-English Language  Feel generally unsafe   \n",
            "1     English and non-English Language    Feel generally safe   \n",
            "2      Other non-English Language Only    Feel generally safe   \n",
            "3                         English Only                Missing   \n",
            "4                         English Only    Feel generally safe   \n",
            "...                                ...                    ...   \n",
            "4409                      English Only    Feel generally safe   \n",
            "4410                      English Only    Feel generally safe   \n",
            "4411  English and non-English Language    Feel generally safe   \n",
            "4412                      English Only    Feel generally safe   \n",
            "4413                      English Only    Feel generally safe   \n",
            "\n",
            "              EDUCATION_IMP            Employmt  \\\n",
            "0     Less than high school          Unemployed   \n",
            "1     More than high school  Not in Labor Force   \n",
            "2     Less than high school  Not in Labor Force   \n",
            "3               High school  Not in Labor Force   \n",
            "4     More than high school  Not in Labor Force   \n",
            "...                     ...                 ...   \n",
            "4409  Less than high school          Unemployed   \n",
            "4410  Less than high school            Employed   \n",
            "4411  More than high school            Employed   \n",
            "4412  More than high school            Employed   \n",
            "4413  More than high school            Employed   \n",
            "\n",
            "                                 fpl      agecat5 sex_at_birth  \\\n",
            "0     Less than or Equal to 100% FPL  45-64 Years       Female   \n",
            "1              201% or More than FPL  45-64 Years       Female   \n",
            "2     Less than or Equal to 100% FPL   0-17 Years         Male   \n",
            "3                   101% to 200% FPL  18-44 Years       Female   \n",
            "4              201% or More than FPL  45-64 Years         Male   \n",
            "...                              ...          ...          ...   \n",
            "4409  Less than or Equal to 100% FPL  45-64 Years         Male   \n",
            "4410           201% or More than FPL  45-64 Years         Male   \n",
            "4411           201% or More than FPL  45-64 Years       Female   \n",
            "4412           201% or More than FPL          75+         Male   \n",
            "4413           201% or More than FPL  45-64 Years         Male   \n",
            "\n",
            "                       InsurStatus  \n",
            "0      Publicly Obtained Insurance  \n",
            "1     Privately Obtained Insurance  \n",
            "2                         Medicaid  \n",
            "3                         Medicaid  \n",
            "4                         Medicare  \n",
            "...                            ...  \n",
            "4409                      Medicaid  \n",
            "4410  Privately Obtained Insurance  \n",
            "4411  Privately Obtained Insurance  \n",
            "4412  Privately Obtained Insurance  \n",
            "4413  Privately Obtained Insurance  \n",
            "\n",
            "[4414 rows x 43 columns]\n"
          ]
        }
      ]
    },
    {
      "cell_type": "code",
      "source": [
        "df.dtypes"
      ],
      "metadata": {
        "colab": {
          "base_uri": "https://localhost:8080/"
        },
        "id": "6TX90v5oxaEv",
        "outputId": "84705031-083c-4014-ff89-7444cd4c061a"
      },
      "execution_count": 131,
      "outputs": [
        {
          "output_type": "execute_result",
          "data": {
            "text/plain": [
              "zrid             string\n",
              "bmi_ind          string\n",
              "HYPERTENSION      int64\n",
              "DIABETES          int64\n",
              "INT1a            string\n",
              "MED1             string\n",
              "CON1             string\n",
              "CON6b            string\n",
              "CON10            string\n",
              "CON12a           string\n",
              "CON13b           string\n",
              "CON14i           string\n",
              "CON14j           string\n",
              "HEA1             string\n",
              "HEA7a            string\n",
              "HEA7e_a          string\n",
              "HEA7e_b          string\n",
              "HEA7e_d          string\n",
              "HEA18            string\n",
              "HEA27            string\n",
              "HEA29            string\n",
              "HEA31            string\n",
              "HEA32            string\n",
              "HEA33            string\n",
              "HEA34            string\n",
              "HEA35            string\n",
              "HEA36            string\n",
              "HEA51            string\n",
              "HEA52            string\n",
              "ROU9f2           string\n",
              "numper           string\n",
              "NEI7_r           string\n",
              "race_simp        string\n",
              "smkstat          string\n",
              "hlthstat         string\n",
              "lang_pref        string\n",
              "SocialRisk       string\n",
              "EDUCATION_IMP    string\n",
              "Employmt         string\n",
              "fpl              string\n",
              "agecat5          string\n",
              "sex_at_birth     string\n",
              "InsurStatus      string\n",
              "dtype: object"
            ]
          },
          "metadata": {},
          "execution_count": 131
        }
      ]
    },
    {
      "cell_type": "code",
      "source": [
        "##no\n",
        "df[['age_lower', 'age_upper']] = df['agecat5'].str.split('-', expand=True)\n",
        "print(df)"
      ],
      "metadata": {
        "id": "aKd1YxCPex60"
      },
      "execution_count": null,
      "outputs": []
    },
    {
      "cell_type": "code",
      "source": [
        "##no\n",
        "# Convert the new columns to numeric data types if needed\n",
        "\n",
        "df['age_lower'] = df['age_lower'].str.rstrip('+').apply(pd.to_numeric, errors='coerce')\n",
        "\n",
        "df['age_upper'] = df['age_upper'].str.rstrip('Years').apply(pd.to_numeric, errors='coerce')\n"
      ],
      "metadata": {
        "id": "oGuuTZaUfJfd"
      },
      "execution_count": 133,
      "outputs": []
    },
    {
      "cell_type": "code",
      "source": [
        "##no\n",
        "df['age_upper'] = df['age_upper'].fillna(95).astype(int)\n",
        "df\n"
      ],
      "metadata": {
        "id": "_j5mOHV7jFW4"
      },
      "execution_count": null,
      "outputs": []
    },
    {
      "cell_type": "markdown",
      "source": [
        "**Random Forest**"
      ],
      "metadata": {
        "id": "XjTo53GMoa-M"
      }
    },
    {
      "cell_type": "markdown",
      "source": [
        "1."
      ],
      "metadata": {
        "id": "L0bXOdNK9jzo"
      }
    },
    {
      "cell_type": "code",
      "source": [],
      "metadata": {
        "id": "N6Bc4_9gjvCb"
      },
      "execution_count": null,
      "outputs": []
    },
    {
      "cell_type": "code",
      "source": [
        "from sklearn.preprocessing import LabelEncoder\n",
        "\n",
        "label_encoder = LabelEncoder()\n",
        "df['EDUCATION_IMP'] = label_encoder.fit_transform(df['EDUCATION_IMP'])\n",
        "df\n",
        "# Retrieve the mapping of labels to original values\n",
        "label_mapping = dict(zip(label_encoder.classes_, label_encoder.transform(label_encoder.classes_)))\n",
        "print(label_mapping)"
      ],
      "metadata": {
        "colab": {
          "base_uri": "https://localhost:8080/"
        },
        "id": "FaOLttmnkOzV",
        "outputId": "4688ed01-32c4-4edf-9afe-ae118dc9ac37"
      },
      "execution_count": 191,
      "outputs": [
        {
          "output_type": "stream",
          "name": "stdout",
          "text": [
            "{'High school': 0, 'Less than high school': 1, 'More than high school': 2}\n"
          ]
        }
      ]
    },
    {
      "cell_type": "code",
      "source": [
        "df['agecat5'] = label_encoder.fit_transform(df['agecat5'])\n",
        "df\n",
        "# Retrieve the mapping of labels to original values\n",
        "label_mapping = dict(zip(label_encoder.classes_, label_encoder.transform(label_encoder.classes_)))\n",
        "print(label_mapping)"
      ],
      "metadata": {
        "colab": {
          "base_uri": "https://localhost:8080/"
        },
        "id": "tLgaHQxOqqVB",
        "outputId": "a8af8ae0-5774-4f34-e009-21d5afaf6949"
      },
      "execution_count": 192,
      "outputs": [
        {
          "output_type": "stream",
          "name": "stdout",
          "text": [
            "{'0-17 Years': 0, '18-44 Years': 1, '45-64 Years': 2, '65-74 Years': 3, '75+': 4}\n"
          ]
        }
      ]
    },
    {
      "cell_type": "code",
      "source": [
        "df['race_simp'] = label_encoder.fit_transform(df['race_simp'])\n",
        "df\n",
        "# Retrieve the mapping of labels to original values\n",
        "label_mapping = dict(zip(label_encoder.classes_, label_encoder.transform(label_encoder.classes_)))\n",
        "print(label_mapping)"
      ],
      "metadata": {
        "colab": {
          "base_uri": "https://localhost:8080/"
        },
        "id": "YIeobOYClj3J",
        "outputId": "2055575d-f9db-4aa1-94e7-1ca5304cceb5"
      },
      "execution_count": 193,
      "outputs": [
        {
          "output_type": "stream",
          "name": "stdout",
          "text": [
            "{'Hispanic': 0, 'Non-Hispanic Black': 1, 'Non-Hispanic White': 2, 'Other': 3}\n"
          ]
        }
      ]
    },
    {
      "cell_type": "code",
      "source": [
        "df['InsurStatus'] = label_encoder.fit_transform(df['InsurStatus'])\n",
        "df\n",
        "# Retrieve the mapping of labels to original values\n",
        "label_mapping = dict(zip(label_encoder.classes_, label_encoder.transform(label_encoder.classes_)))\n",
        "print(label_mapping)"
      ],
      "metadata": {
        "colab": {
          "base_uri": "https://localhost:8080/"
        },
        "id": "06V_lIswmJkQ",
        "outputId": "287c2631-03a7-4981-d1cf-b72bcea93d48"
      },
      "execution_count": 194,
      "outputs": [
        {
          "output_type": "stream",
          "name": "stdout",
          "text": [
            "{'Medicaid': 0, 'Medicare': 1, 'Noninsured': 2, 'Privately Obtained Insurance': 3, 'Publicly Obtained Insurance': 4}\n"
          ]
        }
      ]
    },
    {
      "cell_type": "code",
      "source": [
        "df['numper'] = label_encoder.fit_transform(df['numper'])\n",
        "df\n",
        "# Retrieve the mapping of labels to original values\n",
        "label_mapping = dict(zip(label_encoder.classes_, label_encoder.transform(label_encoder.classes_)))\n",
        "print(label_mapping)"
      ],
      "metadata": {
        "colab": {
          "base_uri": "https://localhost:8080/"
        },
        "id": "7VdK5ZJ-mJ2b",
        "outputId": "cc0a4ad1-ba41-4d20-b28b-387c51190c8f"
      },
      "execution_count": 195,
      "outputs": [
        {
          "output_type": "stream",
          "name": "stdout",
          "text": [
            "{'1': 0, '2': 1, '3-5': 2, '6 or More': 3, 'Missing': 4}\n"
          ]
        }
      ]
    },
    {
      "cell_type": "code",
      "source": [
        "##no\n",
        "df['NEI7_r'] = label_encoder.fit_transform(df['NEI7_r'])\n",
        "df\n",
        "# Retrieve the mapping of labels to original values\n",
        "label_mapping = dict(zip(label_encoder.classes_, label_encoder.transform(label_encoder.classes_)))\n",
        "print(label_mapping)"
      ],
      "metadata": {
        "colab": {
          "base_uri": "https://localhost:8080/"
        },
        "id": "bk1KotfJmRCo",
        "outputId": "fa8b7bfd-499b-4a8a-d2da-f14770a2c0bf"
      },
      "execution_count": 139,
      "outputs": [
        {
          "output_type": "stream",
          "name": "stdout",
          "text": [
            "{\"Don't know\": 0, 'Missing': 1, 'Other': 2, 'Refusal': 3, 'Rural': 4, 'Suburban': 5, 'Urban': 6}\n"
          ]
        }
      ]
    },
    {
      "cell_type": "code",
      "source": [
        "df['Employmt'] = label_encoder.fit_transform(df['Employmt'])\n",
        "df\n",
        "# Retrieve the mapping of labels to original values\n",
        "label_mapping = dict(zip(label_encoder.classes_, label_encoder.transform(label_encoder.classes_)))\n",
        "print(label_mapping)"
      ],
      "metadata": {
        "colab": {
          "base_uri": "https://localhost:8080/"
        },
        "id": "7S4eOTVkmRuG",
        "outputId": "a9b5babd-0823-44e9-a929-25025dac514b"
      },
      "execution_count": 196,
      "outputs": [
        {
          "output_type": "stream",
          "name": "stdout",
          "text": [
            "{'Employed': 0, 'Not in Labor Force': 1, 'Unemployed': 2}\n"
          ]
        }
      ]
    },
    {
      "cell_type": "code",
      "source": [
        "df['SocialRisk'] = label_encoder.fit_transform(df['SocialRisk'])\n",
        "df\n",
        "# Retrieve the mapping of labels to original values\n",
        "label_mapping = dict(zip(label_encoder.classes_, label_encoder.transform(label_encoder.classes_)))\n",
        "print(label_mapping)"
      ],
      "metadata": {
        "colab": {
          "base_uri": "https://localhost:8080/"
        },
        "id": "FZ2AXkBqnPcs",
        "outputId": "4e737ea9-fdd6-413e-dbd6-6116e3d8fc46"
      },
      "execution_count": 197,
      "outputs": [
        {
          "output_type": "stream",
          "name": "stdout",
          "text": [
            "{'Feel generally safe': 0, 'Feel generally unsafe': 1, 'Missing': 2}\n"
          ]
        }
      ]
    },
    {
      "cell_type": "code",
      "source": [
        "df['sex_at_birth'] = label_encoder.fit_transform(df['sex_at_birth'])\n",
        "df\n",
        "# Retrieve the mapping of labels to original values\n",
        "label_mapping = dict(zip(label_encoder.classes_, label_encoder.transform(label_encoder.classes_)))\n",
        "print(label_mapping)"
      ],
      "metadata": {
        "colab": {
          "base_uri": "https://localhost:8080/"
        },
        "id": "zkEWQtPrnVEb",
        "outputId": "e2f316f4-8eee-48a0-eca8-39d5ee556440"
      },
      "execution_count": 198,
      "outputs": [
        {
          "output_type": "stream",
          "name": "stdout",
          "text": [
            "{'Female': 0, 'Male': 1}\n"
          ]
        }
      ]
    },
    {
      "cell_type": "code",
      "source": [
        "from sklearn.model_selection import train_test_split\n",
        "from sklearn.ensemble import RandomForestClassifier, RandomForestRegressor\n",
        "from sklearn.metrics import accuracy_score, classification_report\n",
        "\n",
        "X = df[['age_lower','age_upper','Employmt','EDUCATION_IMP','race_simp',\n",
        "               'InsurStatus','numper','NEI7_r','SocialRisk','sex_at_birth']]\n",
        "Y = df['CON1']\n",
        "# Split the data into training and testing sets\n",
        "X_train, X_test, y_train, y_test = train_test_split(X, Y, test_size=0.2, random_state=0)\n",
        "# Create and train the Random Forest model\n",
        "rf_model = RandomForestClassifier(n_estimators=100, random_state=0)  # Or use RandomForestRegressor for regression\n",
        "rf_model.fit(X_train, y_train)\n",
        "\n"
      ],
      "metadata": {
        "colab": {
          "base_uri": "https://localhost:8080/",
          "height": 77
        },
        "id": "rm1rWF-wv9vd",
        "outputId": "cac7cfcc-5eb7-4354-d816-ee20c7b02019"
      },
      "execution_count": 146,
      "outputs": [
        {
          "output_type": "execute_result",
          "data": {
            "text/plain": [
              "RandomForestClassifier(random_state=0)"
            ],
            "text/html": [
              "<style>#sk-container-id-1 {color: black;background-color: white;}#sk-container-id-1 pre{padding: 0;}#sk-container-id-1 div.sk-toggleable {background-color: white;}#sk-container-id-1 label.sk-toggleable__label {cursor: pointer;display: block;width: 100%;margin-bottom: 0;padding: 0.3em;box-sizing: border-box;text-align: center;}#sk-container-id-1 label.sk-toggleable__label-arrow:before {content: \"▸\";float: left;margin-right: 0.25em;color: #696969;}#sk-container-id-1 label.sk-toggleable__label-arrow:hover:before {color: black;}#sk-container-id-1 div.sk-estimator:hover label.sk-toggleable__label-arrow:before {color: black;}#sk-container-id-1 div.sk-toggleable__content {max-height: 0;max-width: 0;overflow: hidden;text-align: left;background-color: #f0f8ff;}#sk-container-id-1 div.sk-toggleable__content pre {margin: 0.2em;color: black;border-radius: 0.25em;background-color: #f0f8ff;}#sk-container-id-1 input.sk-toggleable__control:checked~div.sk-toggleable__content {max-height: 200px;max-width: 100%;overflow: auto;}#sk-container-id-1 input.sk-toggleable__control:checked~label.sk-toggleable__label-arrow:before {content: \"▾\";}#sk-container-id-1 div.sk-estimator input.sk-toggleable__control:checked~label.sk-toggleable__label {background-color: #d4ebff;}#sk-container-id-1 div.sk-label input.sk-toggleable__control:checked~label.sk-toggleable__label {background-color: #d4ebff;}#sk-container-id-1 input.sk-hidden--visually {border: 0;clip: rect(1px 1px 1px 1px);clip: rect(1px, 1px, 1px, 1px);height: 1px;margin: -1px;overflow: hidden;padding: 0;position: absolute;width: 1px;}#sk-container-id-1 div.sk-estimator {font-family: monospace;background-color: #f0f8ff;border: 1px dotted black;border-radius: 0.25em;box-sizing: border-box;margin-bottom: 0.5em;}#sk-container-id-1 div.sk-estimator:hover {background-color: #d4ebff;}#sk-container-id-1 div.sk-parallel-item::after {content: \"\";width: 100%;border-bottom: 1px solid gray;flex-grow: 1;}#sk-container-id-1 div.sk-label:hover label.sk-toggleable__label {background-color: #d4ebff;}#sk-container-id-1 div.sk-serial::before {content: \"\";position: absolute;border-left: 1px solid gray;box-sizing: border-box;top: 0;bottom: 0;left: 50%;z-index: 0;}#sk-container-id-1 div.sk-serial {display: flex;flex-direction: column;align-items: center;background-color: white;padding-right: 0.2em;padding-left: 0.2em;position: relative;}#sk-container-id-1 div.sk-item {position: relative;z-index: 1;}#sk-container-id-1 div.sk-parallel {display: flex;align-items: stretch;justify-content: center;background-color: white;position: relative;}#sk-container-id-1 div.sk-item::before, #sk-container-id-1 div.sk-parallel-item::before {content: \"\";position: absolute;border-left: 1px solid gray;box-sizing: border-box;top: 0;bottom: 0;left: 50%;z-index: -1;}#sk-container-id-1 div.sk-parallel-item {display: flex;flex-direction: column;z-index: 1;position: relative;background-color: white;}#sk-container-id-1 div.sk-parallel-item:first-child::after {align-self: flex-end;width: 50%;}#sk-container-id-1 div.sk-parallel-item:last-child::after {align-self: flex-start;width: 50%;}#sk-container-id-1 div.sk-parallel-item:only-child::after {width: 0;}#sk-container-id-1 div.sk-dashed-wrapped {border: 1px dashed gray;margin: 0 0.4em 0.5em 0.4em;box-sizing: border-box;padding-bottom: 0.4em;background-color: white;}#sk-container-id-1 div.sk-label label {font-family: monospace;font-weight: bold;display: inline-block;line-height: 1.2em;}#sk-container-id-1 div.sk-label-container {text-align: center;}#sk-container-id-1 div.sk-container {/* jupyter's `normalize.less` sets `[hidden] { display: none; }` but bootstrap.min.css set `[hidden] { display: none !important; }` so we also need the `!important` here to be able to override the default hidden behavior on the sphinx rendered scikit-learn.org. See: https://github.com/scikit-learn/scikit-learn/issues/21755 */display: inline-block !important;position: relative;}#sk-container-id-1 div.sk-text-repr-fallback {display: none;}</style><div id=\"sk-container-id-1\" class=\"sk-top-container\"><div class=\"sk-text-repr-fallback\"><pre>RandomForestClassifier(random_state=0)</pre><b>In a Jupyter environment, please rerun this cell to show the HTML representation or trust the notebook. <br />On GitHub, the HTML representation is unable to render, please try loading this page with nbviewer.org.</b></div><div class=\"sk-container\" hidden><div class=\"sk-item\"><div class=\"sk-estimator sk-toggleable\"><input class=\"sk-toggleable__control sk-hidden--visually\" id=\"sk-estimator-id-1\" type=\"checkbox\" checked><label for=\"sk-estimator-id-1\" class=\"sk-toggleable__label sk-toggleable__label-arrow\">RandomForestClassifier</label><div class=\"sk-toggleable__content\"><pre>RandomForestClassifier(random_state=0)</pre></div></div></div></div></div>"
            ]
          },
          "metadata": {},
          "execution_count": 146
        }
      ]
    },
    {
      "cell_type": "code",
      "source": [
        "feature_importance = rf_model.feature_importances_"
      ],
      "metadata": {
        "id": "yfwoJrn0njxU"
      },
      "execution_count": 147,
      "outputs": []
    },
    {
      "cell_type": "code",
      "source": [
        "import matplotlib.pyplot as plt\n",
        "\n",
        "# Create a bar chart to visualize feature importance\n",
        "plt.figure(figsize=(10, 6))\n",
        "plt.bar(range(len(feature_importance)), feature_importance, tick_label=X.columns)\n",
        "plt.xlabel('Feature')\n",
        "plt.ylabel('Feature Importance')\n",
        "plt.title('Random Forest Feature Importance')\n",
        "plt.xticks(rotation=90)\n",
        "plt.show()"
      ],
      "metadata": {
        "colab": {
          "base_uri": "https://localhost:8080/",
          "height": 684
        },
        "id": "HMX_RM5nnnJP",
        "outputId": "0b627501-e407-4cc6-b587-fc8cd9ffa853"
      },
      "execution_count": 148,
      "outputs": [
        {
          "output_type": "display_data",
          "data": {
            "text/plain": [
              "<Figure size 1000x600 with 1 Axes>"
            ],
            "image/png": "[encoded data removed]"
          },
          "metadata": {}
        }
      ]
    },
    {
      "cell_type": "code",
      "source": [
        "\n",
        "def custom_map(value):\n",
        "    if value in ['Don\\'t know', 'Missing', 'Other','Refusal']:\n",
        "        return 'Missing'  # Combine classes 1, 2, and 3 into category 1\n",
        "    else:\n",
        "        return value  # Keep other classes as they are\n",
        "\n",
        "# Apply the mapping to create the 'CombinedClass' column\n",
        "df['NEI7_r'] = df['NEI7_r'].map(custom_map)\n",
        "\n",
        "# Create a LabelEncoder and fit it to the 'CombinedClass' column\n",
        "label_encoder = LabelEncoder()\n",
        "df['NEI7_r'] = label_encoder.fit_transform(df['NEI7_r'])\n",
        "\n",
        "# Retrieve the mapping of labels to original values\n",
        "label_mapping = dict(zip(label_encoder.classes_, label_encoder.transform(label_encoder.classes_)))\n",
        "\n",
        "print(label_mapping)\n"
      ],
      "metadata": {
        "colab": {
          "base_uri": "https://localhost:8080/"
        },
        "id": "g70PfD-Rovke",
        "outputId": "b7ceda1a-fe3b-4438-82a6-515ee2d88a8a"
      },
      "execution_count": 199,
      "outputs": [
        {
          "output_type": "stream",
          "name": "stdout",
          "text": [
            "{'Missing': 0, 'Rural': 1, 'Suburban': 2, 'Urban': 3}\n"
          ]
        }
      ]
    },
    {
      "cell_type": "code",
      "source": [
        "X = df[['agecat5','Employmt','EDUCATION_IMP','race_simp',\n",
        "               'InsurStatus','numper','NEI7_r','SocialRisk','sex_at_birth']]\n",
        "Y = df['CON1']\n",
        "# Split the data into training and testing sets\n",
        "X_train, X_test, y_train, y_test = train_test_split(X, Y, test_size=0.2, random_state=0)\n",
        "# Create and train the Random Forest model\n",
        "rf_model = RandomForestClassifier(n_estimators=100, random_state=0)  # Or use RandomForestRegressor for regression\n",
        "rf_model.fit(X_train, y_train)\n",
        "\n",
        "feature_importance = rf_model.feature_importances_\n",
        "\n",
        "# Create a bar chart to visualize feature importance\n",
        "plt.figure(figsize=(10, 6))\n",
        "plt.bar(range(len(feature_importance)), feature_importance, tick_label=X.columns)\n",
        "plt.xlabel('Feature')\n",
        "plt.ylabel('Feature Importance')\n",
        "plt.title('Random Forest Feature Importance')\n",
        "plt.xticks(rotation=90)\n",
        "plt.show()\n",
        "\n"
      ],
      "metadata": {
        "colab": {
          "base_uri": "https://localhost:8080/",
          "height": 684
        },
        "id": "dKv9oqWdstYh",
        "outputId": "e17fec06-a977-4036-d36f-7a56ba091a06"
      },
      "execution_count": 201,
      "outputs": [
        {
          "output_type": "display_data",
          "data": {
            "text/plain": [
              "<Figure size 1000x600 with 1 Axes>"
            ],
            "image/png": "[encoded data removed]"
          },
          "metadata": {}
        }
      ]
    },
    {
      "cell_type": "code",
      "source": [],
      "metadata": {
        "id": "ApPJ5aiistcH"
      },
      "execution_count": null,
      "outputs": []
    },
    {
      "cell_type": "code",
      "source": [
        "# Create a Logistic Regression model\n",
        "model = LogisticRegression()\n",
        "\n",
        "# Train the model on the training data\n",
        "model.fit(X_train, y_train)"
      ],
      "metadata": {
        "id": "pCcCrtEPv99z"
      },
      "execution_count": null,
      "outputs": []
    },
    {
      "cell_type": "code",
      "source": [],
      "metadata": {
        "id": "4mU8B0qtv-A6"
      },
      "execution_count": null,
      "outputs": []
    },
    {
      "cell_type": "code",
      "source": [],
      "metadata": {
        "id": "6dtpF93uv-D7"
      },
      "execution_count": null,
      "outputs": []
    }
  ]
}